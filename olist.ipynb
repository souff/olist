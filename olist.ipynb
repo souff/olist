{
 "cells": [
  {
   "cell_type": "markdown",
   "id": "a7b8c2ae-47a3-42d2-b937-0a2800735cdf",
   "metadata": {},
   "source": [
    "# spark olist\n",
    "\n",
    "This notebook is used to test some piece of code before start writing the scala application.\n",
    "\n",
    "You need [spylon-kernel](https://pypi.org/project/spylon-kernel/) to execute the cells."
   ]
  },
  {
   "cell_type": "markdown",
   "id": "a9cb45bb-0db0-4da0-8e05-a6115776bfac",
   "metadata": {},
   "source": [
    "## Explore the data orders"
   ]
  },
  {
   "cell_type": "code",
   "execution_count": 113,
   "id": "af769711-85fb-445f-8054-f681a1c7aa2e",
   "metadata": {},
   "outputs": [
    {
     "name": "stdout",
     "output_type": "stream",
     "text": [
      "+--------------------+--------------------+------------+------------------------+-------------------+----------------------------+-----------------------------+-----------------------------+\n",
      "|            order_id|         customer_id|order_status|order_purchase_timestamp|  order_approved_at|order_delivered_carrier_date|order_delivered_customer_date|order_estimated_delivery_date|\n",
      "+--------------------+--------------------+------------+------------------------+-------------------+----------------------------+-----------------------------+-----------------------------+\n",
      "|e481f51cbdc54678b...|9ef432eb625129730...|   delivered|     2017-10-02 10:56:33|2017-10-02 11:07:15|         2017-10-04 19:55:00|          2017-10-10 21:25:13|          2017-10-18 00:00:00|\n",
      "|53cdb2fc8bc7dce0b...|b0830fb4747a6c6d2...|   delivered|     2018-07-24 20:41:37|2018-07-26 03:24:27|         2018-07-26 14:31:00|          2018-08-07 15:27:45|          2018-08-13 00:00:00|\n",
      "|47770eb9100c2d0c4...|41ce2a54c0b03bf34...|   delivered|     2018-08-08 08:38:49|2018-08-08 08:55:23|         2018-08-08 13:50:00|          2018-08-17 18:06:29|          2018-09-04 00:00:00|\n",
      "|949d5b44dbf5de918...|f88197465ea7920ad...|   delivered|     2017-11-18 19:28:06|2017-11-18 19:45:59|         2017-11-22 13:39:59|          2017-12-02 00:28:42|          2017-12-15 00:00:00|\n",
      "|ad21c59c0840e6cb8...|8ab97904e6daea886...|   delivered|     2018-02-13 21:18:39|2018-02-13 22:20:29|         2018-02-14 19:46:34|          2018-02-16 18:17:02|          2018-02-26 00:00:00|\n",
      "|a4591c265e18cb1dc...|503740e9ca751ccdd...|   delivered|     2017-07-09 21:57:05|2017-07-09 22:10:13|         2017-07-11 14:58:04|          2017-07-26 10:57:55|          2017-08-01 00:00:00|\n",
      "|136cce7faa42fdb2c...|ed0271e0b7da060a3...|    invoiced|     2017-04-11 12:22:08|2017-04-13 13:25:17|                        null|                         null|          2017-05-09 00:00:00|\n",
      "|6514b8ad8028c9f2c...|9bdf08b4b3b52b552...|   delivered|     2017-05-16 13:10:30|2017-05-16 13:22:11|         2017-05-22 10:07:46|          2017-05-26 12:55:51|          2017-06-07 00:00:00|\n",
      "|76c6e866289321a7c...|f54a9f0e6b351c431...|   delivered|     2017-01-23 18:29:09|2017-01-25 02:50:47|         2017-01-26 14:16:31|          2017-02-02 14:08:10|          2017-03-06 00:00:00|\n",
      "|e69bfb5eb88e0ed6a...|31ad1d1b63eb99624...|   delivered|     2017-07-29 11:55:02|2017-07-29 12:05:32|         2017-08-10 19:45:24|          2017-08-16 17:14:30|          2017-08-23 00:00:00|\n",
      "|e6ce16cb79ec1d90b...|494dded5b201313c6...|   delivered|     2017-05-16 19:41:10|2017-05-16 19:50:18|         2017-05-18 11:40:40|          2017-05-29 11:18:31|          2017-06-07 00:00:00|\n",
      "|34513ce0c4fab462a...|7711cf624183d843a...|   delivered|     2017-07-13 19:58:11|2017-07-13 20:10:08|         2017-07-14 18:43:29|          2017-07-19 14:04:48|          2017-08-08 00:00:00|\n",
      "|82566a660a982b15f...|d3e3b74c766bc6214...|   delivered|     2018-06-07 10:06:19|2018-06-09 03:13:12|         2018-06-11 13:29:00|          2018-06-19 12:05:52|          2018-07-18 00:00:00|\n",
      "|5ff96c15d0b717ac6...|19402a48fe860416a...|   delivered|     2018-07-25 17:44:10|2018-07-25 17:55:14|         2018-07-26 13:16:00|          2018-07-30 15:52:25|          2018-08-08 00:00:00|\n",
      "|432aaf21d85167c2c...|3df704f53d3f1d481...|   delivered|     2018-03-01 14:14:28|2018-03-01 15:10:47|         2018-03-02 21:09:20|          2018-03-12 23:36:26|          2018-03-21 00:00:00|\n",
      "|dcb36b511fcac050b...|3b6828a50ffe54694...|   delivered|     2018-06-07 19:03:12|2018-06-12 23:31:02|         2018-06-11 14:54:00|          2018-06-21 15:34:32|          2018-07-04 00:00:00|\n",
      "|403b97836b0c04a62...|738b086814c6fcc74...|   delivered|     2018-01-02 19:00:43|2018-01-02 19:09:04|         2018-01-03 18:19:09|          2018-01-20 01:38:59|          2018-02-06 00:00:00|\n",
      "|116f0b09343b49556...|3187789bec9909876...|   delivered|     2017-12-26 23:41:31|2017-12-26 23:50:22|         2017-12-28 18:33:05|          2018-01-08 22:36:36|          2018-01-29 00:00:00|\n",
      "|85ce859fd6dc634de...|059f7fc5719c7da6c...|   delivered|     2017-11-21 00:03:41|2017-11-21 00:14:22|         2017-11-23 21:32:26|          2017-11-27 18:28:00|          2017-12-11 00:00:00|\n",
      "|83018ec114eee8641...|7f8c8b9c2ae27bf33...|   delivered|     2017-10-26 15:54:26|2017-10-26 16:08:14|         2017-10-26 21:46:53|          2017-11-08 22:22:00|          2017-11-23 00:00:00|\n",
      "+--------------------+--------------------+------------+------------------------+-------------------+----------------------------+-----------------------------+-----------------------------+\n",
      "only showing top 20 rows\n",
      "\n"
     ]
    },
    {
     "data": {
      "text/plain": [
       "df: org.apache.spark.sql.DataFrame = [order_id: string, customer_id: string ... 6 more fields]\n",
       "res95: Long = 99441\n"
      ]
     },
     "execution_count": 113,
     "metadata": {},
     "output_type": "execute_result"
    }
   ],
   "source": [
    "val df = spark.read.option(\"header\", true).csv(\"data/olist_orders_dataset.csv\")\n",
    "df.show\n",
    "df.count"
   ]
  },
  {
   "cell_type": "markdown",
   "id": "3b824002-7300-48a6-a3e7-082a4020b9ad",
   "metadata": {},
   "source": [
    "## Delay for delivery with null delivered customer"
   ]
  },
  {
   "cell_type": "code",
   "execution_count": 114,
   "id": "4179596d-7e7a-4552-9894-d75e3939d17e",
   "metadata": {},
   "outputs": [
    {
     "name": "stdout",
     "output_type": "stream",
     "text": [
      "+--------------------+--------------------+------------+------------------------+-------------------+----------------------------+-----------------------------+-----------------------------+\n",
      "|            order_id|         customer_id|order_status|order_purchase_timestamp|  order_approved_at|order_delivered_carrier_date|order_delivered_customer_date|order_estimated_delivery_date|\n",
      "+--------------------+--------------------+------------+------------------------+-------------------+----------------------------+-----------------------------+-----------------------------+\n",
      "|136cce7faa42fdb2c...|ed0271e0b7da060a3...|    invoiced|     2017-04-11 12:22:08|2017-04-13 13:25:17|                        null|                         null|          2017-05-09 00:00:00|\n",
      "|ee64d42b8cf066f35...|caded193e8e47b836...|     shipped|     2018-06-04 16:44:48|2018-06-05 04:31:18|         2018-06-05 14:32:00|                         null|          2018-06-28 00:00:00|\n",
      "|0760a852e4e9d89eb...|d2a79636084590b74...|    invoiced|     2018-08-03 17:44:42|2018-08-07 06:15:14|                        null|                         null|          2018-08-21 00:00:00|\n",
      "|15bed8e2fec7fdbad...|f3f0e613e0bdb9c7c...|  processing|     2017-09-03 14:22:03|2017-09-03 14:30:09|                        null|                         null|          2017-10-03 00:00:00|\n",
      "|6942b8da583c2f995...|52006a9383bf149a4...|     shipped|     2018-01-10 11:33:07|2018-01-11 02:32:30|         2018-01-11 19:39:23|                         null|          2018-02-07 00:00:00|\n",
      "|36530871a5e80138d...|4dafe3c841d2d6cc8...|     shipped|     2017-05-09 11:48:37|2017-05-11 11:45:14|         2017-05-11 13:21:47|                         null|          2017-06-08 00:00:00|\n",
      "|4d630f57194f5aba1...|6d491c9fe2f04f6e2...|     shipped|     2017-11-17 19:53:21|2017-11-18 19:50:31|         2017-11-22 17:28:34|                         null|          2017-12-13 00:00:00|\n",
      "|8e24261a7e58791d1...|64a254d30eed42cd0...| unavailable|     2017-11-16 15:09:28|2017-11-16 15:26:57|                        null|                         null|          2017-12-05 00:00:00|\n",
      "|3b4ad687e7e5190db...|1a87b8517b7d31373...|     shipped|     2018-06-28 12:52:15|2018-06-28 13:11:09|         2018-07-04 15:20:00|                         null|          2018-08-03 00:00:00|\n",
      "|b68d69564a79dea47...|de1e5517fb50896bb...|     shipped|     2018-02-28 08:57:03|2018-02-28 10:40:35|         2018-03-05 16:10:13|                         null|          2018-03-23 00:00:00|\n",
      "|d3c8851a6651eeff2...|957f8e082185574de...|  processing|     2016-10-05 22:44:13|2016-10-06 15:51:05|                        null|                         null|          2016-12-09 00:00:00|\n",
      "|f373335aac9a659de...|f06a94a401e52fb01...|     shipped|     2018-03-17 15:32:31|2018-03-17 15:48:40|         2018-03-20 21:08:28|                         null|          2018-04-13 00:00:00|\n",
      "|5869074071e0f56e9...|7203eb38fea2b4a15...|     shipped|     2018-06-08 20:06:48|2018-06-12 04:35:37|         2018-06-12 14:09:00|                         null|          2018-06-28 00:00:00|\n",
      "|1b9ecfe83cdc25925...|6d6b50b66d79f8082...|    canceled|     2018-08-04 14:29:27|2018-08-07 04:10:26|                        null|                         null|          2018-08-14 00:00:00|\n",
      "|6147a4d49752afd35...|938698ae953596e23...|     shipped|     2017-04-25 13:35:09|2017-04-25 13:45:16|         2017-05-02 15:29:33|                         null|          2017-05-29 00:00:00|\n",
      "|95e42e6aaf6264cd3...|29ef1f160ce630146...|     shipped|     2017-11-24 09:23:33|2017-11-24 10:51:26|         2017-11-24 19:07:43|                         null|          2017-12-08 00:00:00|\n",
      "|38b7efdf33dd5561f...|021e84751ba0ead75...|    invoiced|     2017-08-01 18:17:41|2017-08-01 18:32:30|                        null|                         null|          2017-08-28 00:00:00|\n",
      "|10918fe4d665fda80...|e05a24d2c1d2cd3ae...|     shipped|     2017-06-26 07:04:39|2017-06-26 10:32:39|         2017-07-04 11:27:21|                         null|          2017-08-03 00:00:00|\n",
      "|f633c884a99eb6386...|b6e18008af6aeb4a5...|     shipped|     2018-04-04 00:33:47|2018-04-04 00:48:50|         2018-04-05 19:16:46|                         null|          2018-04-25 00:00:00|\n",
      "|c272bcd21c287498b...|9582c5bbecc65eb56...| unavailable|     2018-01-31 11:31:37|2018-01-31 14:23:50|                        null|                         null|          2018-02-16 00:00:00|\n",
      "+--------------------+--------------------+------------+------------------------+-------------------+----------------------------+-----------------------------+-----------------------------+\n",
      "only showing top 20 rows\n",
      "\n"
     ]
    },
    {
     "data": {
      "text/plain": [
       "df_null: org.apache.spark.sql.Dataset[org.apache.spark.sql.Row] = [order_id: string, customer_id: string ... 6 more fields]\n",
       "res96: Long = 2965\n"
      ]
     },
     "execution_count": 114,
     "metadata": {},
     "output_type": "execute_result"
    }
   ],
   "source": [
    "val df_null = df.filter($\"order_delivered_customer_date\".isNull)\n",
    "df_null.show\n",
    "df_null.count"
   ]
  },
  {
   "cell_type": "code",
   "execution_count": 11,
   "id": "42576951-e1aa-4618-9546-fbf0da64fd56",
   "metadata": {},
   "outputs": [
    {
     "name": "stdout",
     "output_type": "stream",
     "text": [
      "+------------+\n",
      "|order_status|\n",
      "+------------+\n",
      "|     shipped|\n",
      "|    canceled|\n",
      "|    approved|\n",
      "|    invoiced|\n",
      "|     created|\n",
      "|   delivered|\n",
      "| unavailable|\n",
      "|  processing|\n",
      "+------------+\n",
      "\n"
     ]
    }
   ],
   "source": [
    "df.select(\"order_status\").distinct.show"
   ]
  },
  {
   "cell_type": "markdown",
   "id": "00b9934d-fc21-4441-8035-4264fe02026c",
   "metadata": {},
   "source": [
    "Identify the order status where the command is canceled.\n",
    "\n",
    "I don't compute the delay for canceled and unavailable.\n",
    "\n",
    "I haven't information of the time when the data is exported except 2018 on kaggle. I will take tha maximum date as the date of export."
   ]
  },
  {
   "cell_type": "code",
   "execution_count": 59,
   "id": "2be52b4b-ccaa-46bb-b707-b618f72f6862",
   "metadata": {},
   "outputs": [
    {
     "data": {
      "text/plain": [
       "current_time: Array[org.apache.spark.sql.Row] = Array([2018-10-17 20:30:18.0])\n"
      ]
     },
     "execution_count": 59,
     "metadata": {},
     "output_type": "execute_result"
    }
   ],
   "source": [
    "val current_time = df.select(to_utc_timestamp($\"order_purchase_timestamp\",\"Brazil/East\").alias(\"utc\")).agg(max(\"utc\")).collect"
   ]
  },
  {
   "cell_type": "code",
   "execution_count": 48,
   "id": "a981d9f1-d1d0-46d0-8a10-6f3139bee096",
   "metadata": {},
   "outputs": [],
   "source": [
    "df.createOrReplaceTempView(\"orders\")"
   ]
  },
  {
   "cell_type": "code",
   "execution_count": 227,
   "id": "b8a4777c-017b-4836-8764-8960ff03f00c",
   "metadata": {},
   "outputs": [
    {
     "name": "stdout",
     "output_type": "stream",
     "text": [
      "+--------------------+--------------------+------------+-------------------+-------------+-----+\n",
      "|            order_id|         customer_id|order_status|          order_utc|delivered_utc|delay|\n",
      "+--------------------+--------------------+------------+-------------------+-------------+-----+\n",
      "|2e7a8482f6fb09756...|08c5351a6aca1c158...|     shipped|2016-09-05 00:15:19|         null|  728|\n",
      "|711b9be9c346d9ecd...|81e4aed5ab4253757...|    invoiced|2016-10-04 16:38:37|         null|  699|\n",
      "|dd359d3c294458c6d...|5c58d1ea5a893380e...|    invoiced|2016-10-04 16:02:10|         null|  699|\n",
      "|5cb8558cbb7c0c2f0...|2ff5a6455514da421...|     shipped|2016-10-04 18:02:37|         null|  699|\n",
      "|a6475bb7a50387e3c...|442d66f0d96f65609...|    invoiced|2016-10-04 19:28:25|         null|  699|\n",
      "|cda873529ca7ab71f...|76c74aaff2f3f7355...|     shipped|2016-10-05 19:57:30|         null|  698|\n",
      "|3f913d30288c117e4...|7aae6b74d7e0a2a11...|     shipped|2016-10-05 17:36:55|         null|  698|\n",
      "|97d2f8fe76f2f253b...|5458c93e0db88f9b8...|     shipped|2016-10-05 14:54:15|         null|  698|\n",
      "|e04f1da1f48bf2bbf...|0d00d77134cae4c58...|    invoiced|2016-10-05 16:22:20|         null|  698|\n",
      "|a68ce1686d536ca72...|d7bed5fac093a4136...|     shipped|2016-10-05 04:47:40|         null|  698|\n",
      "|edb2a55c055efbb89...|193fc54759c7948c8...|    invoiced|2016-10-06 19:34:16|         null|  697|\n",
      "|aef214f769de82d35...|d83a7232681626088...|    invoiced|2016-10-06 16:07:13|         null|  697|\n",
      "|60856ac7677a70cd8...|bf3143805b420affe...|    invoiced|2016-10-06 17:36:59|         null|  697|\n",
      "|2ce9683175cdab7d1...|b2d7ae0415dbbca53...|    invoiced|2016-10-06 00:03:33|         null|  697|\n",
      "|d3c8851a6651eeff2...|957f8e082185574de...|  processing|2016-10-06 01:44:13|         null|  697|\n",
      "|35b8e54d765e6b217...|1aaa5eaa9dd9bafb3...|    invoiced|2016-10-06 15:23:07|         null|  697|\n",
      "|f69ae31bce06a78d6...|08c95eb831d93a760...|    invoiced|2016-10-06 03:12:47|         null|  697|\n",
      "|7d7bf3ee337c36ce0...|75435919ec1c2171f...|    invoiced|2016-10-07 13:46:03|         null|  696|\n",
      "|063b573b88fc80e51...|285195a5b585842e2...|     shipped|2016-10-07 22:17:00|         null|  696|\n",
      "|eb45ce36240dbf895...|80a46d4f35bf6a44f...|    invoiced|2016-10-07 11:49:03|         null|  696|\n",
      "+--------------------+--------------------+------------+-------------------+-------------+-----+\n",
      "only showing top 20 rows\n",
      "\n"
     ]
    },
    {
     "data": {
      "text/plain": [
       "data: org.apache.spark.sql.DataFrame = [order_id: string, customer_id: string ... 4 more fields]\n",
       "res200: Long = 1735\n"
      ]
     },
     "execution_count": 227,
     "metadata": {},
     "output_type": "execute_result"
    }
   ],
   "source": [
    "val data = spark.sql(\n",
    "\"\"\"\n",
    "SELECT *,\n",
    "       NULL AS delivered_utc, \n",
    "       Datediff(To_timestamp(\"2018-09-03 12:06:57\"), order_utc) AS delay\n",
    "FROM   (SELECT order_id,\n",
    "               customer_id,\n",
    "               order_status,\n",
    "               To_utc_timestamp(order_purchase_timestamp, 'Brazil/East') AS order_utc\n",
    "        FROM   orders\n",
    "        WHERE  order_status NOT IN ( 'canceled', 'unavailable' ) AND order_delivered_customer_date IS NULL)\n",
    "WHERE Datediff(To_timestamp(\"2018-09-03 12:06:57\"), order_utc) >10 \n",
    "ORDER  BY delay DESC \n",
    "\"\"\")\n",
    "data.show\n",
    "data.count"
   ]
  },
  {
   "cell_type": "markdown",
   "id": "88f8af43-ca39-45bd-a982-48cac706e20e",
   "metadata": {},
   "source": [
    "## Delay for customers delivery with date time"
   ]
  },
  {
   "cell_type": "code",
   "execution_count": 116,
   "id": "ce2820a0-45e4-458f-b6e0-95da9a0e359e",
   "metadata": {},
   "outputs": [
    {
     "name": "stdout",
     "output_type": "stream",
     "text": [
      "+--------------------+--------------------+------------------------+--------------------+--------------+\n",
      "|         customer_id|  customer_unique_id|customer_zip_code_prefix|       customer_city|customer_state|\n",
      "+--------------------+--------------------+------------------------+--------------------+--------------+\n",
      "|06b8999e2fba1a1fb...|861eff4711a542e4b...|                   14409|              franca|            SP|\n",
      "|18955e83d337fd6b2...|290c77bc529b7ac93...|                   09790|sao bernardo do c...|            SP|\n",
      "|4e7b3e00288586ebd...|060e732b5b29e8181...|                   01151|           sao paulo|            SP|\n",
      "|b2b6027bc5c5109e5...|259dac757896d24d7...|                   08775|     mogi das cruzes|            SP|\n",
      "|4f2d8ab171c80ec83...|345ecd01c38d18a90...|                   13056|            campinas|            SP|\n",
      "|879864dab9bc30475...|4c93744516667ad3b...|                   89254|      jaragua do sul|            SC|\n",
      "|fd826e7cf63160e53...|addec96d2e059c80c...|                   04534|           sao paulo|            SP|\n",
      "|5e274e7a0c3809e14...|57b2a98a409812fe9...|                   35182|             timoteo|            MG|\n",
      "|5adf08e34b2e99398...|1175e95fb47ddff9d...|                   81560|            curitiba|            PR|\n",
      "|4b7139f34592b3a31...|9afe194fb833f79e3...|                   30575|      belo horizonte|            MG|\n",
      "|9fb35e4ed6f0a14a4...|2a7745e1ed516b289...|                   39400|       montes claros|            MG|\n",
      "|5aa9e4fdd4dfd2095...|2a46fb94aef5cbeeb...|                   20231|      rio de janeiro|            RJ|\n",
      "|b2d1536598b73a9ab...|918dc87cd72cd9f6e...|                   18682|    lencois paulista|            SP|\n",
      "|eabebad39a88bb6f5...|295c05e81917928d7...|                   05704|           sao paulo|            SP|\n",
      "|1f1c7bf1c9b041b29...|3151a81801c838636...|                   95110|       caxias do sul|            RS|\n",
      "|206f3129c0e4d7d0b...|21f748a16f4e1688a...|                   13412|          piracicaba|            SP|\n",
      "|a7c125a0a07b75146...|5c2991dbd08bbf3cf...|                   22750|      rio de janeiro|            RJ|\n",
      "|c5c61596a3b6bd0ce...|b6e99561fe6f34a55...|                   07124|           guarulhos|            SP|\n",
      "|9b8ce803689b3562d...|7f3a72e8f988c6e73...|                   05416|           sao paulo|            SP|\n",
      "|49d0ea0986edde72d...|3e6fd6b2f0d499456...|                   68485|              pacaja|            PA|\n",
      "+--------------------+--------------------+------------------------+--------------------+--------------+\n",
      "only showing top 20 rows\n",
      "\n"
     ]
    },
    {
     "data": {
      "text/plain": [
       "df_customer: org.apache.spark.sql.DataFrame = [customer_id: string, customer_unique_id: string ... 3 more fields]\n"
      ]
     },
     "execution_count": 116,
     "metadata": {},
     "output_type": "execute_result"
    }
   ],
   "source": [
    "val df_customer = spark.read.option(\"header\", true).csv(\"data/olist_customers_dataset.csv\")\n",
    "df_customer.show"
   ]
  },
  {
   "cell_type": "markdown",
   "id": "a449d4c5-be5c-4795-987c-3fc493976ee2",
   "metadata": {},
   "source": [
    "I need to link the postion of the customers to his timezone.\n",
    "\n",
    "![Brezil time zone](https://upload.wikimedia.org/wikipedia/commons/thumb/d/d0/Standard_Timezones_of_Brazil.svg/1022px-Standard_Timezones_of_Brazil.svg.png)\n",
    "\n",
    "I can't use state because some state have two time zone (cf red and green on the right).\n",
    "\n",
    "So I need to link the city to the timezone."
   ]
  },
  {
   "cell_type": "code",
   "execution_count": 127,
   "id": "4766f8b0-905a-4b0c-96cb-97d7f3d816f4",
   "metadata": {},
   "outputs": [
    {
     "name": "stdout",
     "output_type": "stream",
     "text": [
      "+--------------------+\n",
      "|       customer_city|\n",
      "+--------------------+\n",
      "|            camacari|\n",
      "|           arapiraca|\n",
      "|           itaberaba|\n",
      "|           igrejinha|\n",
      "|  aguas de sao pedro|\n",
      "|            vermelho|\n",
      "|                pote|\n",
      "|jijoca de jericoa...|\n",
      "|            barracao|\n",
      "|                iepe|\n",
      "|divino das laranj...|\n",
      "|divino de sao lou...|\n",
      "|              bacaxa|\n",
      "|   redencao da serra|\n",
      "|       astolfo dutra|\n",
      "|            itanhaem|\n",
      "|             brusque|\n",
      "|           boa vista|\n",
      "|  cachoeira paulista|\n",
      "|            guaranta|\n",
      "+--------------------+\n",
      "only showing top 20 rows\n",
      "\n"
     ]
    },
    {
     "data": {
      "text/plain": [
       "df_city: org.apache.spark.sql.Dataset[org.apache.spark.sql.Row] = [customer_city: string]\n",
       "res108: Long = 4119\n"
      ]
     },
     "execution_count": 127,
     "metadata": {},
     "output_type": "execute_result"
    }
   ],
   "source": [
    "val df_city = df_customer.select(\"customer_city\").distinct\n",
    "df_city.show\n",
    "df_city.count"
   ]
  },
  {
   "cell_type": "markdown",
   "id": "d31d7438-1eb4-4a7a-8714-d65a8944246a",
   "metadata": {},
   "source": [
    "It is to complicated with the city. I will consider amazonas only in one time zone and I will use state. I will create a csv with the timezone for each state.\n",
    "\n",
    "|  State | utc offset   | tz |\n",
    "|---|---| ---|\n",
    "| MA  | −03:00 | Brazil/East |\n",
    "|   PI|  −03:00 |  Brazil/East |\n",
    "|   CE|  −03:00 | Brazil/East |\n",
    "|  RN |  −03:00 | Brazil/East |\n",
    "|  PB |  −03:00 | Brazil/East |\n",
    "|  GO |    −03:00 | Brazil/East |\n",
    "|  AP |  −03:00 | Brazil/East |\n",
    "|  DF |    −03:00| Brazil/East |\n",
    "|  MG |    −03:00| Brazil/East |\n",
    "|  ES |    −03:00 | Brazil/East |\n",
    "|  RJ |    −03:00 | Brazil/East |\n",
    "|  SP |    −03:00 | Brazil/East |\n",
    "|  PR |    −03:00 | Brazil/East |\n",
    "|  SC |    −03:00| Brazil/East |\n",
    "|  RS |    −03:00 | Brazil/East |\n",
    "|  PA |  −03:00 | Brazil/East |\n",
    "|  PE | −03:00  | Brazil/East |\n",
    "|  TO | −03:00  | Brazil/East |\n",
    "|  AL | −03:00  | Brazil/East |\n",
    "| SE  | −03:00  | Brazil/East |\n",
    "| BA  | −03:00  | Brazil/East |\n",
    "| MT  |  −04:00 | Brazil/West |\n",
    "|  RO |  −04:00 |Brazil/West |\n",
    "|   RR |  −04:00 |Brazil/West |\n",
    "|  AM |  −04:00  |Brazil/West |\n",
    "| MS  | −04:00  |Brazil/West |\n",
    "| AC  |    −05:00  |    Brazil/Acre |"
   ]
  },
  {
   "cell_type": "code",
   "execution_count": 164,
   "id": "245cb2ce-902d-4439-b1ef-85dcde7b77d6",
   "metadata": {},
   "outputs": [
    {
     "name": "stdout",
     "output_type": "stream",
     "text": [
      "+--------------+\n",
      "|customer_state|\n",
      "+--------------+\n",
      "|            SC|\n",
      "|            RO|\n",
      "|            PI|\n",
      "|            AM|\n",
      "|            RR|\n",
      "|            GO|\n",
      "|            TO|\n",
      "|            MT|\n",
      "|            SP|\n",
      "|            ES|\n",
      "|            PB|\n",
      "|            RS|\n",
      "|            MS|\n",
      "|            AL|\n",
      "|            MG|\n",
      "|            PA|\n",
      "|            BA|\n",
      "|            SE|\n",
      "|            PE|\n",
      "|            CE|\n",
      "+--------------+\n",
      "only showing top 20 rows\n",
      "\n"
     ]
    },
    {
     "data": {
      "text/plain": [
       "df_state: org.apache.spark.sql.Dataset[org.apache.spark.sql.Row] = [customer_state: string]\n",
       "res144: Long = 27\n"
      ]
     },
     "execution_count": 164,
     "metadata": {},
     "output_type": "execute_result"
    }
   ],
   "source": [
    "val df_state = df_customer.select(\"customer_state\").distinct\n",
    "df_state.show\n",
    "df_state.count"
   ]
  },
  {
   "cell_type": "code",
   "execution_count": 132,
   "id": "2a58bda6-8175-48a7-882c-8a499787b036",
   "metadata": {},
   "outputs": [],
   "source": [
    "df_customer.createOrReplaceTempView(\"customer\")\n",
    "df.createOrReplaceTempView(\"orders\")"
   ]
  },
  {
   "cell_type": "code",
   "execution_count": 197,
   "id": "6dda442a-a105-41f8-ace2-c04d36d5a1e3",
   "metadata": {},
   "outputs": [
    {
     "name": "stdout",
     "output_type": "stream",
     "text": [
      "+-----+----------+-------------+\n",
      "|State|utc_offset|           tz|\n",
      "+-----+----------+-------------+\n",
      "|   MA|    −03:00| Brazil/East |\n",
      "|   PI|    −03:00| Brazil/East |\n",
      "|   CE|    −03:00| Brazil/East |\n",
      "|   AP|    −03:00| Brazil/East |\n",
      "|   RN|    −03:00| Brazil/East |\n",
      "|   PB|    −03:00| Brazil/East |\n",
      "|   GO|    −03:00| Brazil/East |\n",
      "|   DF|    −03:00| Brazil/East |\n",
      "|   MG|    −03:00| Brazil/East |\n",
      "|   ES|    −03:00| Brazil/East |\n",
      "|   RJ|    −03:00| Brazil/East |\n",
      "|   SP|    −03:00| Brazil/East |\n",
      "|   PR|    −03:00| Brazil/East |\n",
      "|   SC|    −03:00| Brazil/East |\n",
      "|   RS|    −03:00| Brazil/East |\n",
      "|   PA|    −03:00| Brazil/East |\n",
      "|   PE|    −03:00| Brazil/East |\n",
      "|   TO|    −03:00| Brazil/East |\n",
      "|   AL|    −03:00| Brazil/East |\n",
      "|   SE|    −03:00| Brazil/East |\n",
      "+-----+----------+-------------+\n",
      "only showing top 20 rows\n",
      "\n"
     ]
    },
    {
     "data": {
      "text/plain": [
       "df_timezone: org.apache.spark.sql.DataFrame = [State: string, utc_offset: string ... 1 more field]\n",
       "res177: Long = 27\n"
      ]
     },
     "execution_count": 197,
     "metadata": {},
     "output_type": "execute_result"
    }
   ],
   "source": [
    "val df_timezone = spark.read.option(\"header\", true).csv(\"data/time_zone.csv\")\n",
    "df_timezone.show\n",
    "df_timezone.distinct.count"
   ]
  },
  {
   "cell_type": "code",
   "execution_count": 195,
   "id": "0d5f45ff-de8a-4c8b-a28c-f138c9da7a9c",
   "metadata": {},
   "outputs": [],
   "source": [
    "df_timezone.createOrReplaceTempView(\"timezone\")"
   ]
  },
  {
   "cell_type": "code",
   "execution_count": 228,
   "id": "52ab9259-d1b3-46a4-ba38-4424e48cf147",
   "metadata": {},
   "outputs": [
    {
     "name": "stdout",
     "output_type": "stream",
     "text": [
      "+--------------------+--------------------+------------+-------------------+-------------------+-----+\n",
      "|            order_id|         customer_id|order_status|          order_utc|      delivered_utc|delay|\n",
      "+--------------------+--------------------+------------+-------------------+-------------------+-----+\n",
      "|1b3190b2dfa9d789e...|d306426abe5fca15e...|   delivered|2018-02-23 17:57:35|2018-09-20 02:24:07|  209|\n",
      "|ca07593549f1816d2...|75683a92331068e2d...|   delivered|2017-02-22 02:31:27|2017-09-19 17:36:39|  209|\n",
      "|440d0d17af552815d...|7815125148cfa1e8c...|   delivered|2017-03-08 02:59:51|2017-09-19 18:12:50|  195|\n",
      "|2fb597c2f772eca01...|217906bc11a32c1e4...|   delivered|2017-03-08 21:09:02|2017-09-19 17:33:17|  195|\n",
      "|0f4519c5f1c541dde...|1a8a4a30dc2969767...|   delivered|2017-03-09 16:26:57|2017-09-19 17:38:21|  194|\n",
      "|285ab9426d6982034...|9cf2c3fa2632cee74...|   delivered|2017-03-09 01:47:40|2017-09-19 17:00:04|  194|\n",
      "|47b40429ed8cce3ae...|cb2caaaead400c973...|   delivered|2018-01-03 11:44:01|2018-07-13 23:51:31|  191|\n",
      "|2fe324febf907e3ea...|65b14237885b3972e...|   delivered|2017-03-13 23:17:10|2017-09-19 20:00:07|  190|\n",
      "|2d7561026d542c8db...|8199345f57c6d1cbe...|   delivered|2017-03-15 14:24:27|2017-09-19 17:38:18|  188|\n",
      "|437222e3fd1b07396...|9b39de85d94d55a21...|   delivered|2017-03-16 14:36:00|2017-09-19 19:28:58|  187|\n",
      "|c27815f7e3dd0b926...|f85e9ec0719b16dc4...|   delivered|2017-03-16 02:23:17|2017-09-19 20:14:25|  187|\n",
      "|dfe5f68118c257614...|8f6ceed676a529b29...|   delivered|2017-03-17 15:32:22|2017-09-19 21:13:19|  186|\n",
      "|6e82dcfb5eada6283...|59b42de1617fdda0b...|   delivered|2017-05-17 22:09:02|2017-11-16 12:56:45|  183|\n",
      "|2ba1366baecad3c35...|6852966131028b669...|   delivered|2017-02-28 17:56:37|2017-08-28 19:23:46|  181|\n",
      "|d24e8541128cea179...|beeda72b31be3b8a3...|   delivered|2017-06-12 16:14:11|2017-12-04 20:36:29|  175|\n",
      "|3566eabb132f8d647...|bc34456d3b02a05a1...|   delivered|2017-03-29 16:57:55|2017-09-19 18:07:09|  174|\n",
      "|ed8e9faf1b75f43ee...|14fcb7be0e0a5868f...|   delivered|2017-11-29 17:10:14|2018-05-21 21:22:18|  173|\n",
      "|2fa29503f2ebd9f53...|5c42637f3e7e7c520...|   delivered|2017-03-31 18:03:51|2017-09-19 22:24:46|  172|\n",
      "|4fbc8d6f2f4db3e78...|bf391aa5a48fbaee5...|   delivered|2018-02-02 23:38:36|2018-07-21 02:37:50|  169|\n",
      "|525e11b26fdb7f414...|8f36bba3eb0b71918...|   delivered|2017-04-04 19:19:10|2017-09-19 17:58:10|  168|\n",
      "+--------------------+--------------------+------------+-------------------+-------------------+-----+\n",
      "only showing top 20 rows\n",
      "\n"
     ]
    },
    {
     "data": {
      "text/plain": [
       "data3: org.apache.spark.sql.DataFrame = [order_id: string, customer_id: string ... 4 more fields]\n",
       "res201: Long = 46744\n"
      ]
     },
     "execution_count": 228,
     "metadata": {},
     "output_type": "execute_result"
    }
   ],
   "source": [
    "val data3 = spark.sql(\n",
    "\"\"\"\n",
    "SELECT *,\n",
    "       Datediff(delivered_utc, order_utc) AS delay\n",
    "FROM   (SELECT o.order_id,\n",
    "               o.customer_id,\n",
    "               o.order_status,\n",
    "               To_utc_timestamp(order_purchase_timestamp, 'Brazil/East') AS order_utc,\n",
    "               To_utc_timestamp(o.order_delivered_customer_date, t.tz) AS delivered_utc\n",
    "        FROM   customer c\n",
    "               JOIN timezone t\n",
    "                 ON c.customer_state = t.state\n",
    "               JOIN orders o\n",
    "                 ON c.customer_id = o.customer_id\n",
    "        WHERE  o.order_delivered_customer_date IS NOT NULL)\n",
    "WHERE  Datediff(delivered_utc, order_utc) > 10\n",
    "ORDER  BY delay DESC \n",
    "\"\"\"\n",
    ")\n",
    "data3.show\n",
    "data3.count"
   ]
  },
  {
   "cell_type": "code",
   "execution_count": 215,
   "id": "6bceff8c-6c41-4622-87d9-b79d23c42ac8",
   "metadata": {},
   "outputs": [
    {
     "data": {
      "text/plain": [
       "res192: Long = 46744\n"
      ]
     },
     "execution_count": 215,
     "metadata": {},
     "output_type": "execute_result"
    }
   ],
   "source": [
    "data3.select(\"customer_id\").distinct.count"
   ]
  },
  {
   "cell_type": "markdown",
   "id": "8ae594c1-b801-4b6f-b0d8-c0d3915ee8c0",
   "metadata": {},
   "source": [
    "## concat both for the final result"
   ]
  },
  {
   "cell_type": "code",
   "execution_count": 226,
   "id": "0eb33310-1064-4895-8ade-8c12c7c93823",
   "metadata": {},
   "outputs": [
    {
     "name": "stdout",
     "output_type": "stream",
     "text": [
      "+--------------------+--------------------+------------+-------------------+-------------+-----+\n",
      "|            order_id|         customer_id|order_status|          order_utc|delivered_utc|delay|\n",
      "+--------------------+--------------------+------------+-------------------+-------------+-----+\n",
      "|2e7a8482f6fb09756...|08c5351a6aca1c158...|     shipped|2016-09-05 00:15:19|         null|  728|\n",
      "|711b9be9c346d9ecd...|81e4aed5ab4253757...|    invoiced|2016-10-04 16:38:37|         null|  699|\n",
      "|5cb8558cbb7c0c2f0...|2ff5a6455514da421...|     shipped|2016-10-04 18:02:37|         null|  699|\n",
      "|a6475bb7a50387e3c...|442d66f0d96f65609...|    invoiced|2016-10-04 19:28:25|         null|  699|\n",
      "|dd359d3c294458c6d...|5c58d1ea5a893380e...|    invoiced|2016-10-04 16:02:10|         null|  699|\n",
      "|e04f1da1f48bf2bbf...|0d00d77134cae4c58...|    invoiced|2016-10-05 16:22:20|         null|  698|\n",
      "|3f913d30288c117e4...|7aae6b74d7e0a2a11...|     shipped|2016-10-05 17:36:55|         null|  698|\n",
      "|97d2f8fe76f2f253b...|5458c93e0db88f9b8...|     shipped|2016-10-05 14:54:15|         null|  698|\n",
      "|a68ce1686d536ca72...|d7bed5fac093a4136...|     shipped|2016-10-05 04:47:40|         null|  698|\n",
      "|cda873529ca7ab71f...|76c74aaff2f3f7355...|     shipped|2016-10-05 19:57:30|         null|  698|\n",
      "|aef214f769de82d35...|d83a7232681626088...|    invoiced|2016-10-06 16:07:13|         null|  697|\n",
      "|60856ac7677a70cd8...|bf3143805b420affe...|    invoiced|2016-10-06 17:36:59|         null|  697|\n",
      "|f69ae31bce06a78d6...|08c95eb831d93a760...|    invoiced|2016-10-06 03:12:47|         null|  697|\n",
      "|d3c8851a6651eeff2...|957f8e082185574de...|  processing|2016-10-06 01:44:13|         null|  697|\n",
      "|2ce9683175cdab7d1...|b2d7ae0415dbbca53...|    invoiced|2016-10-06 00:03:33|         null|  697|\n",
      "|35b8e54d765e6b217...|1aaa5eaa9dd9bafb3...|    invoiced|2016-10-06 15:23:07|         null|  697|\n",
      "|edb2a55c055efbb89...|193fc54759c7948c8...|    invoiced|2016-10-06 19:34:16|         null|  697|\n",
      "|063b573b88fc80e51...|285195a5b585842e2...|     shipped|2016-10-07 22:17:00|         null|  696|\n",
      "|0efd0bc268d34da3f...|95446917717bb58d5...|     shipped|2016-10-07 18:53:31|         null|  696|\n",
      "|eb45ce36240dbf895...|80a46d4f35bf6a44f...|    invoiced|2016-10-07 11:49:03|         null|  696|\n",
      "+--------------------+--------------------+------------+-------------------+-------------+-----+\n",
      "only showing top 20 rows\n",
      "\n"
     ]
    },
    {
     "data": {
      "text/plain": [
       "df_final: org.apache.spark.sql.Dataset[org.apache.spark.sql.Row] = [order_id: string, customer_id: string ... 4 more fields]\n",
       "res199: Long = 48479\n"
      ]
     },
     "execution_count": 226,
     "metadata": {},
     "output_type": "execute_result"
    }
   ],
   "source": [
    "val df_final = data.union(data3).sort(desc(\"delay\"))\n",
    "df_final.show\n",
    "df_final.count"
   ]
  },
  {
   "cell_type": "markdown",
   "id": "eef3e1d0-2f25-411e-aa8f-f7bba9461dcf",
   "metadata": {},
   "source": [
    "## save to csv"
   ]
  },
  {
   "cell_type": "code",
   "execution_count": 238,
   "id": "d7e80e32-7322-4157-bd56-102b0c6bfdea",
   "metadata": {},
   "outputs": [],
   "source": [
    "df_final.repartition(1).write.mode(\"Overwrite\").option(\"header\", \"true\").csv(\"csv\")"
   ]
  }
 ],
 "metadata": {
  "kernelspec": {
   "display_name": "spylon-kernel",
   "language": "scala",
   "name": "spylon-kernel"
  },
  "language_info": {
   "codemirror_mode": "text/x-scala",
   "file_extension": ".scala",
   "help_links": [
    {
     "text": "MetaKernel Magics",
     "url": "https://metakernel.readthedocs.io/en/latest/source/README.html"
    }
   ],
   "mimetype": "text/x-scala",
   "name": "scala",
   "pygments_lexer": "scala",
   "version": "0.4.1"
  }
 },
 "nbformat": 4,
 "nbformat_minor": 5
}
